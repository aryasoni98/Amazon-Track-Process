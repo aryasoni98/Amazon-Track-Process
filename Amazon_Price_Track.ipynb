{
  "nbformat": 4,
  "nbformat_minor": 0,
  "metadata": {
    "colab": {
      "name": "Amazon_Price_Track.ipynb",
      "provenance": [],
      "authorship_tag": "ABX9TyP5K3E9SOM0SsnX2iXZjEND",
      "include_colab_link": true
    },
    "kernelspec": {
      "name": "python3",
      "display_name": "Python 3"
    }
  },
  "cells": [
    {
      "cell_type": "markdown",
      "metadata": {
        "id": "view-in-github",
        "colab_type": "text"
      },
      "source": [
        "<a href=\"https://colab.research.google.com/github/aryasoni98/Amazon-Track-Process/blob/main/Amazon_Price_Track.ipynb\" target=\"_parent\"><img src=\"https://colab.research.google.com/assets/colab-badge.svg\" alt=\"Open In Colab\"/></a>"
      ]
    },
    {
      "cell_type": "code",
      "metadata": {
        "id": "_xBCgAd3NNUP"
      },
      "source": [
        ""
      ],
      "execution_count": null,
      "outputs": []
    },
    {
      "cell_type": "markdown",
      "metadata": {
        "id": "6_wR4v5qNRJa"
      },
      "source": [
        "**Build a Python App To Track Amazon Price**"
      ]
    },
    {
      "cell_type": "code",
      "metadata": {
        "id": "G_Nrhlu2NV3B"
      },
      "source": [
        ""
      ],
      "execution_count": null,
      "outputs": []
    },
    {
      "cell_type": "markdown",
      "metadata": {
        "id": "Tj8BzsuHNa8x"
      },
      "source": [
        "Using Jupyter Notebook , You should start by importing the necessary modules ( Pandas, Numpy, Matplotlib, Pyplot, Seaborn).\n",
        "\n",
        "The Beautiful Soup package is used to extract data from HTML Files."
      ]
    },
    {
      "cell_type": "code",
      "metadata": {
        "colab": {
          "base_uri": "https://localhost:8080/"
        },
        "id": "Ndypxn6RNwlA",
        "outputId": "9fb81dbe-a434-4c5d-e8cc-f76ce6044141"
      },
      "source": [
        "!pip install requests"
      ],
      "execution_count": 1,
      "outputs": [
        {
          "output_type": "stream",
          "text": [
            "Requirement already satisfied: requests in /usr/local/lib/python3.6/dist-packages (2.23.0)\n",
            "Requirement already satisfied: idna<3,>=2.5 in /usr/local/lib/python3.6/dist-packages (from requests) (2.10)\n",
            "Requirement already satisfied: certifi>=2017.4.17 in /usr/local/lib/python3.6/dist-packages (from requests) (2020.12.5)\n",
            "Requirement already satisfied: urllib3!=1.25.0,!=1.25.1,<1.26,>=1.21.1 in /usr/local/lib/python3.6/dist-packages (from requests) (1.24.3)\n",
            "Requirement already satisfied: chardet<4,>=3.0.2 in /usr/local/lib/python3.6/dist-packages (from requests) (3.0.4)\n"
          ],
          "name": "stdout"
        }
      ]
    },
    {
      "cell_type": "code",
      "metadata": {
        "id": "LcSDWgnmOEXW"
      },
      "source": [
        "import requests\n",
        "from bs4 import BeautifulSoup\n",
        "import smtplib\n",
        "import pandas as pd\n",
        "import numpy as np\n",
        "import matplotlib.pyplot as plt\n",
        "import seaborn as sns\n",
        "%matplotlib inline"
      ],
      "execution_count": 2,
      "outputs": []
    },
    {
      "cell_type": "code",
      "metadata": {
        "id": "XgQUEm7kOjfO"
      },
      "source": [
        " url=\"https://www.amazon.in/New-Apple-iPhone-11-64GB/dp/B08L89J9G3/ref=redir_mobile_desktop?ie=UTF8&aaxitk=3UOX6Qr43roSJRbRyA08SQ&hsa_cr_id=9367016590202&pd_rd_plhdr=t&pd_rd_r=672377a1-7a36-4e2e-9c8c-f4b7dc16f68a&pd_rd_w=guSkn&pd_rd_wg=2oTmz&ref_=sbx_be_s_sparkle_mcd_asin_1_img\""
      ],
      "execution_count": 3,
      "outputs": []
    },
    {
      "cell_type": "code",
      "metadata": {
        "id": "zbETbsQBPdVW"
      },
      "source": [
        ""
      ],
      "execution_count": null,
      "outputs": []
    }
  ]
}